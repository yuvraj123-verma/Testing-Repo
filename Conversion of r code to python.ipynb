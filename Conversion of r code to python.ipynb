{
 "cells": [
  {
   "cell_type": "code",
   "execution_count": 2,
   "id": "0dc2abbb",
   "metadata": {},
   "outputs": [
    {
     "name": "stderr",
     "output_type": "stream",
     "text": [
      "Unable to determine R home: [WinError 2] The system cannot find the file specified\n"
     ]
    }
   ],
   "source": [
    "import rpy2.robjects.packages as rpackages\n",
    "import rpy2.robjects as robjects"
   ]
  },
  {
   "cell_type": "code",
   "execution_count": 26,
   "id": "6414b354",
   "metadata": {},
   "outputs": [],
   "source": [
    "dct = {'method': \"ssgsea\", 'kcdf': \"Gaussian\", \"abs_ranking\": False,\n",
    "        \"min_sz\": 1, \"max_sz\": float('inf'), \"parallel_sz\": 1, \"max_diff\": True,\n",
    "        \"tau\": False, \"ssgsea_norm\": True, \"verbose\": True}\n",
    "arg_list = []\n",
    "for val in dct.values():\n",
    "    arg_list.append(val)"
   ]
  },
  {
   "cell_type": "code",
   "execution_count": 6,
   "id": "3aa07b80",
   "metadata": {},
   "outputs": [
    {
     "data": {
      "text/plain": [
       "['ssgsea', 'Gaussian', False, 1, inf, 1, True, None, True, True]"
      ]
     },
     "execution_count": 6,
     "metadata": {},
     "output_type": "execute_result"
    }
   ],
   "source": [
    "arg_list"
   ]
  },
  {
   "cell_type": "code",
   "execution_count": 11,
   "id": "60c9dbba",
   "metadata": {},
   "outputs": [
    {
     "data": {
      "text/plain": [
       "[False]"
      ]
     },
     "execution_count": 11,
     "metadata": {},
     "output_type": "execute_result"
    }
   ],
   "source": [
    "list(robjects.vectors.ListSexpVector(arg_list)[2])"
   ]
  },
  {
   "cell_type": "code",
   "execution_count": 27,
   "id": "412173dc",
   "metadata": {},
   "outputs": [
    {
     "data": {
      "text/html": [
       "\n",
       "        <span>StrVector with 1 elements.</span>\n",
       "        <table>\n",
       "        <tbody>\n",
       "          <tr>\n",
       "          \n",
       "            <td>\n",
       "            'Gaussian'\n",
       "            </td>\n",
       "          \n",
       "          </tr>\n",
       "        </tbody>\n",
       "        </table>\n",
       "        "
      ],
      "text/plain": [
       "<rpy2.robjects.vectors.StrVector object at 0x000002395ADD4A80> [RTYPES.STRSXP]\n",
       "R classes: ('character',)\n",
       "['Gaussian']"
      ]
     },
     "execution_count": 27,
     "metadata": {},
     "output_type": "execute_result"
    }
   ],
   "source": [
    "x = robjects.ListVector(dct)\n",
    "x[1]"
   ]
  },
  {
   "cell_type": "code",
   "execution_count": 3,
   "id": "c9034ab6",
   "metadata": {
    "scrolled": true
   },
   "outputs": [
    {
     "name": "stdout",
     "output_type": "stream",
     "text": [
      "{'method': 'gsva', 'kcdf': 'Gaussian', 'abs_ranking': False, 'min_sz': 1, 'max_sz': inf, 'parallel_sz': 100000000, 'max_diff': True, 'tau': False, 'ssgsea_norm': True, 'verbose': True}\n",
      "Estimating GSVA scores for 2982 gene sets.\n",
      "Estimating ECDFs with Gaussian kernels\n",
      "  |======================================================================| 100%\n",
      "\n",
      "[[-0.08409868 -0.49169391  0.48858938 ... -0.28524248  0.43278541\n",
      "   0.15559759]\n",
      " [ 0.16718954 -0.45328354  0.56543996 ... -0.28219792  0.52813443\n",
      "   0.38614212]\n",
      " [ 0.41842732 -0.58573557  0.34857668 ... -0.20950346  0.59973591\n",
      "   0.12959871]\n",
      " ...\n",
      " [ 0.47766672  0.20891854  0.39626027 ... -0.0536768  -0.47001619\n",
      "   0.06009579]\n",
      " [-0.07813079 -0.47599722 -0.02010886 ... -0.16682713 -0.20657371\n",
      "  -0.37369049]\n",
      " [ 0.1272252  -0.05545697  0.25015093 ...  0.12339612  0.0034401\n",
      "   0.3238779 ]]\n"
     ]
    }
   ],
   "source": [
    "\"\"\"\n",
    "GSVA -> arguments\n",
    "(method=c(\"gsva\", \"ssgsea\", \"zscore\", \"plage\"),\n",
    "kcdf=c(\"Gaussian\", \"Poisson\", \"none\"),\n",
    "abs.ranking=FALSE,\n",
    "min.sz=1,\n",
    "max.sz=Inf,\n",
    "parallel.sz=1L,\n",
    "mx.diff=TRUE,\n",
    "tau=switch(method, gsva=1, ssgsea=0.25, NA),\n",
    "ssgsea.norm=TRUE,\n",
    "verbose=TRUE,\n",
    "BPPARAM=SerialParam(progressbar=verbose))\n",
    "\n",
    "\n",
    "SingScore -> simpleScore Arguments\n",
    "(rankData,\n",
    "upSet,\n",
    "downSet = NULL,\n",
    "subSamples = NULL,\n",
    "centerScore = TRUE,\n",
    "dispersionFun = mad,\n",
    "knownDirection = TRUE\n",
    ")\n",
    "\n",
    "AUcell ->  AUCell_buildRankings arguments\n",
    "\n",
    "(featureType = \"genes\",\n",
    "plotStats = TRUE,\n",
    "splitByBlocks = FALSE,\n",
    "BPPARAM = NULL,\n",
    "keepZeroesAsNA = FALSE,\n",
    "verbose = TRUE,\n",
    "nCores = NULL,\n",
    "mctype = NULL)\n",
    "\n",
    "AUcell ->  AUCell_calAUC arguments\n",
    "(geneSets,\n",
    "rankings,\n",
    "nCores = 1,\n",
    "normAUC = TRUE,\n",
    "aucMaxRank = ceiling(0.05 * nrow(rankings)),\n",
    "verbose = TRUE\n",
    ")\n",
    "\"\"\"\n",
    "\n",
    "\n",
    "import rpy2.robjects.packages as rpackages\n",
    "import rpy2.robjects as robjects\n",
    "import pandas as pd\n",
    "import numpy as np\n",
    "\n",
    "class r_2_python_conversion:\n",
    "\n",
    "    def __init__(self, csv_file_path, gmt_file_path):\n",
    "        # self.r_file_path = r_script_file_path\n",
    "        self.csv_file_path = csv_file_path\n",
    "        self.gmt_file_path = gmt_file_path\n",
    "\n",
    "    def aucell_score(self, r_file_path, **args_list):\n",
    "        # Defining the R script and loading the instance in Python\n",
    "        r = robjects.r\n",
    "        r['source'](r_file_path)  # 'C:\\\\Users\\\\hp\\\\Downloads\\\\AUcell.R'\n",
    "\n",
    "        # creating the global environment and import the aucell_data_collection function from r script in globalenv.\n",
    "        aucell_data_collection = robjects.globalenv['aucell_data_collection']\n",
    "        as_null = robjects.r['as.null']\n",
    "        dct = {\"featureType\": \"genes\",\n",
    "                \"plotStats\": True,\n",
    "                \"splitByBlocks\": False,\n",
    "                \"BPPARAM\": as_null(),\n",
    "                \"keepZeroesAsNA\": False,\n",
    "                \"verbose\": True,\n",
    "                \"nCores\": as_null(),\n",
    "                \"mctype\": as_null(),\n",
    "                \"nCores_cal_auc\": 1,\n",
    "                \"normAUC\": True,\n",
    "                \"aucMaxRank\": 0.05,\n",
    "                \"verbose_cal_auc\": True}\n",
    "        \n",
    "        for key, value in args_list.items():\n",
    "            dct[key] = value\n",
    "        print(dct)\n",
    "\n",
    "        # store the argument of aucell_data_collection function in tuple\n",
    "        # tuple contain key and value -> key: argument name  and value: file_paths\n",
    "        args = (('csv_file_path', self.csv_file_path),\n",
    "                ('gmt_file_path', self.gmt_file_path),\n",
    "                ('lst', robjects.ListVector(dct)))\n",
    "\n",
    "        # pass the args variable in aucell_data_collection function to call the r function in python.\n",
    "        matrix = aucell_data_collection.rcall(args)\n",
    "\n",
    "        return np.array(matrix)\n",
    "\n",
    "    def singscore(self, r_file_path, **args_list):\n",
    "        # Defining the R script and loading the instance in Python\n",
    "        r = robjects.r\n",
    "        r['source'](r_file_path)\n",
    "        singscore_data_collection = robjects.globalenv['singscore_data_collection']\n",
    "        mad = robjects.r['mad']\n",
    "        as_null = robjects.r['as.null']\n",
    "        dct = {\"downSet\": as_null(),\n",
    "                \"subSamples\": as_null(),\n",
    "                \"centerScore\": True,\n",
    "                \"dispersionFun\": mad,\n",
    "                \"knownDirection\": True}\n",
    "        \n",
    "        for key, value in args_list.items():\n",
    "            if key != \"dispersionFun\":\n",
    "                dct[key] = value\n",
    "            else:\n",
    "                param = robjects.r[value]\n",
    "                dct[key] = param\n",
    "                \n",
    "        print(dct)\n",
    "        args = (('csv_file_path', self.csv_file_path),\n",
    "                ('gmt_file_path', self.gmt_file_path),\n",
    "                ('lst', robjects.ListVector(dct))\n",
    "               )\n",
    "        singscore_matrix = singscore_data_collection.rcall(args)\n",
    "\n",
    "        # write the total_score into matrix\n",
    "        rpackages.importr('MASS')\n",
    "        write_matrix = robjects.r('write.matrix')\n",
    "        write_matrix(singscore_matrix[0], file=\"total_score_mat1\", sep=\",\")\n",
    "        # convert the total_score_mat into csv file\n",
    "        total_score_df = pd.read_csv(\"total_score_mat1\", sep=\",\")\n",
    "        total_score_df['X'] = list(singscore_matrix[2])\n",
    "        total_score_df.to_numpy()\n",
    "\n",
    "        write_matrix(singscore_matrix[1], file=\"total_dispersion_mat1\", sep=\",\")\n",
    "        total_dispersion_df = pd.read_csv(\"total_dispersion_mat1\", sep=\",\")\n",
    "        total_dispersion_df['X'] = list(singscore_matrix[2])\n",
    "        total_dispersion_df.to_numpy()\n",
    "\n",
    "        return total_score_df, total_dispersion_df\n",
    "\n",
    "    def gsva_score(self, r_file_path, **args_list):\n",
    "        r = robjects.r\n",
    "        r['source'](r_file_path)\n",
    "        gsva_data_collection = robjects.globalenv['gsva_data_collection']\n",
    "        base = rpackages.importr('base')\n",
    "        switch = robjects.r['switch']\n",
    "        as_null = robjects.r['as.null']\n",
    "        dct = {\"method\": \"ssgsea\", \n",
    "               'kcdf': \"Gaussian\", \n",
    "               \"abs_ranking\": False,\n",
    "               \"min_sz\": 1,\n",
    "               \"max_sz\": float('inf'),\n",
    "               \"parallel_sz\": 100000000,\n",
    "               \"max_diff\": True,\n",
    "               \"tau\": False,\n",
    "               \"ssgsea_norm\": True,\n",
    "               \"verbose\": True}\n",
    "        for key, value in args_list.items():\n",
    "            dct[key] = value\n",
    "                \n",
    "        print(dct)\n",
    "        args = (('csv_file_path', self.csv_file_path),\n",
    "                ('gmt_file_path', self.gmt_file_path),\n",
    "                ('lst', robjects.ListVector(dct)))\n",
    "\n",
    "        gsva_es_ma1 = gsva_data_collection.rcall(args)\n",
    "        return np.array(gsva_es_ma1)\n",
    "    \n",
    "\n",
    "switch = robjects.r['switch']\n",
    "r_path = r'C:\\Users\\hp\\Downloads\\Telegram Desktop\\GSVA.R'\n",
    "obj = r_2_python_conversion(r\"C:/Users/hp/Downloads/matrix_.csv\", r\"C:\\Users\\hp\\Downloads\\c2.cp.v7.5.1.symbols (1).gmt\")\n",
    "output = obj.gsva_score(r_path, method = \"gsva\")\n",
    "print(output)"
   ]
  },
  {
   "cell_type": "code",
   "execution_count": 2,
   "id": "7df7db0a",
   "metadata": {},
   "outputs": [
    {
     "data": {
      "text/plain": [
       "array([0.15274359, 0.09074874, 0.23607266, 0.13269508, 0.14793988,\n",
       "       0.18474028, 0.1998443 , 0.16720945, 0.1486899 , 0.16351866,\n",
       "       0.14404946, 0.08069661, 0.14615439, 0.1144539 , 0.14354557,\n",
       "       0.2292212 , 0.14348754, 0.10689912, 0.14377548, 0.15968237,\n",
       "       0.15431819, 0.285204  , 0.15200235, 0.14372052, 0.12448476,\n",
       "       0.11533976, 0.17815316, 0.14297443, 0.13198856, 0.0948491 ,\n",
       "       0.15246792, 0.0913329 , 0.12846629, 0.22365252, 0.1226284 ,\n",
       "       0.19098004, 0.14576105, 0.15547064, 0.19841877, 0.11883833,\n",
       "       0.25643669, 0.1499168 ])"
      ]
     },
     "execution_count": 2,
     "metadata": {},
     "output_type": "execute_result"
    }
   ],
   "source": []
  },
  {
   "cell_type": "code",
   "execution_count": 7,
   "id": "b631d0d8",
   "metadata": {},
   "outputs": [
    {
     "data": {
      "text/html": [
       "\n",
       "        <span>FloatVector with 1 elements.</span>\n",
       "        <table>\n",
       "        <tbody>\n",
       "          <tr>\n",
       "          \n",
       "            <td>\n",
       "            1.000000\n",
       "            </td>\n",
       "          \n",
       "          </tr>\n",
       "        </tbody>\n",
       "        </table>\n",
       "        "
      ],
      "text/plain": [
       "<rpy2.robjects.vectors.FloatVector object at 0x0000022DB74C2180> [RTYPES.REALSXP]\n",
       "R classes: ('numeric',)\n",
       "[1.000000]"
      ]
     },
     "execution_count": 7,
     "metadata": {},
     "output_type": "execute_result"
    }
   ],
   "source": [
    "as_double = robjects.r['as.double']\n",
    "is_double = robjects.r['is.double']\n",
    "as_double(1)"
   ]
  },
  {
   "cell_type": "code",
   "execution_count": 5,
   "id": "a1415c93",
   "metadata": {},
   "outputs": [
    {
     "name": "stdout",
     "output_type": "stream",
     "text": [
      "function(){\n",
      "  data<-readRDS('F:\\\\GenterpretR Work\\\\R script\\\\CTRPv2.rds')\n",
      "  data@sensitivity\n",
      "  res <- data@sensitivity$profiles\n",
      "  return(res)\n",
      "}\n",
      "\n"
     ]
    }
   ],
   "source": [
    "r = robjects.r\n",
    "r['source'](\"F:\\GenterpretR Work\\R script\\CTRP dataset.R\")  # 'C:\\\\Users\\\\hp\\\\Downloads\\\\AUcell.R'\n",
    "\n",
    "# creating the global environment and import the aucell_data_collection function from r script in globalenv.\n",
    "ctrp_fun = robjects.globalenv['ctrp']\n",
    "\n",
    "\n",
    "# pass the args variable in aucell_data_collection function to call the r function in python.\n",
    "matrix = ctrp_fun\n",
    "print(matrix)"
   ]
  },
  {
   "cell_type": "code",
   "execution_count": null,
   "id": "753c30a7",
   "metadata": {},
   "outputs": [],
   "source": [
    "def aucell_score(self, r_file_path):\n",
    "        # Defining the R script and loading the instance in Python\n",
    "        r = robjects.r\n",
    "        r['source'](r_file_path)  # 'C:\\\\Users\\\\hp\\\\Downloads\\\\AUcell.R'\n",
    "\n",
    "        # creating the global environment and import the aucell_data_collection function from r script in globalenv.\n",
    "        aucell_data_collection = robjects.globalenv['aucell_data_collection']\n",
    "        as_null = robjects.r['as.null']\n",
    "        \n",
    "\n",
    "        # pass the args variable in aucell_data_collection function to call the r function in python.\n",
    "        matrix = aucell_data_collection\n",
    "\n",
    "        "
   ]
  }
 ],
 "metadata": {
  "kernelspec": {
   "display_name": "Python 3 (ipykernel)",
   "language": "python",
   "name": "python3"
  },
  "language_info": {
   "codemirror_mode": {
    "name": "ipython",
    "version": 3
   },
   "file_extension": ".py",
   "mimetype": "text/x-python",
   "name": "python",
   "nbconvert_exporter": "python",
   "pygments_lexer": "ipython3",
   "version": "3.9.5"
  }
 },
 "nbformat": 4,
 "nbformat_minor": 5
}
